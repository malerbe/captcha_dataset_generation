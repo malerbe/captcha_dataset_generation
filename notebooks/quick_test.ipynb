{
 "cells": [
  {
   "cell_type": "code",
   "execution_count": 15,
   "id": "a7856c22",
   "metadata": {},
   "outputs": [],
   "source": [
    "# Author: Louca Malerba\n",
    "# Date: 03/08/2025"
   ]
  },
  {
   "cell_type": "code",
   "execution_count": 16,
   "id": "03bb7211",
   "metadata": {},
   "outputs": [],
   "source": [
    "import sys\n",
    "import os\n",
    "\n",
    "# Internal libraries\n",
    "from captcha.image import ImageCaptcha"
   ]
  },
  {
   "cell_type": "code",
   "execution_count": 20,
   "id": "3b305fee",
   "metadata": {},
   "outputs": [],
   "source": [
    "# Configuration\n",
    "SAVEPATH_IMGS = os.path.join(os.path.dirname(os.path.abspath(os.getcwd())), 'outputs/images/demo.png')\n",
    "SAVEPATH_MASKS = os.path.join(os.path.dirname(os.path.abspath(os.getcwd())), 'outputs/masks/demo_mask.png')"
   ]
  },
  {
   "cell_type": "code",
   "execution_count": 21,
   "id": "f05d966c",
   "metadata": {},
   "outputs": [],
   "source": [
    "def test_save_image():\n",
    "    captcha = ImageCaptcha()\n",
    "    captcha.write('EHCKL', SAVEPATH_IMGS, segmentation=True, output_mask=SAVEPATH_MASKS)\n",
    "    assert os.path.isfile(SAVEPATH_IMGS)"
   ]
  },
  {
   "cell_type": "code",
   "execution_count": 22,
   "id": "a2140754",
   "metadata": {},
   "outputs": [],
   "source": [
    "test_save_image()"
   ]
  }
 ],
 "metadata": {
  "kernelspec": {
   "display_name": "Python 3",
   "language": "python",
   "name": "python3"
  },
  "language_info": {
   "codemirror_mode": {
    "name": "ipython",
    "version": 3
   },
   "file_extension": ".py",
   "mimetype": "text/x-python",
   "name": "python",
   "nbconvert_exporter": "python",
   "pygments_lexer": "ipython3",
   "version": "3.10.0"
  }
 },
 "nbformat": 4,
 "nbformat_minor": 5
}
